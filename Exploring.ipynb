{
 "cells": [
  {
   "cell_type": "code",
   "execution_count": 19,
   "metadata": {
    "collapsed": false
   },
   "outputs": [
    {
     "name": "stdout",
     "output_type": "stream",
     "text": [
      "Populating the interactive namespace from numpy and matplotlib\n"
     ]
    }
   ],
   "source": [
    "%pylab inline"
   ]
  },
  {
   "cell_type": "code",
   "execution_count": 20,
   "metadata": {
    "collapsed": true
   },
   "outputs": [],
   "source": [
    "import pandas as pd"
   ]
  },
  {
   "cell_type": "code",
   "execution_count": 22,
   "metadata": {
    "collapsed": true
   },
   "outputs": [],
   "source": [
    "df = pd.read_csv('./data/gapminder.csv')\n",
    "df.columns = [i[0].upper()+i[1:] for i in df.columns]\n",
    "df.index = df.Country\n",
    "del df['Country']\n",
    "df = df.apply(lambda x: x.str.strip())\n",
    "df = df.replace('', np.NaN)\n",
    "df = df.apply(lambda x: x.astype(float))"
   ]
  },
  {
   "cell_type": "code",
   "execution_count": 25,
   "metadata": {
    "collapsed": false
   },
   "outputs": [
    {
     "data": {
      "text/plain": [
       "Index(['Incomeperperson', 'Alcconsumption', 'Armedforcesrate', 'Breastcancerper100th', 'Co2emissions', 'Femaleemployrate', 'Hivrate', 'Internetuserate', 'Lifeexpectancy', 'Oilperperson', 'Polityscore', 'Relectricperperson', 'Suicideper100th', 'Employrate', 'Urbanrate'], dtype='object')"
      ]
     },
     "execution_count": 25,
     "metadata": {},
     "output_type": "execute_result"
    }
   ],
   "source": [
    "df.columns"
   ]
  },
  {
   "cell_type": "code",
   "execution_count": 28,
   "metadata": {
    "collapsed": false
   },
   "outputs": [
    {
     "data": {
      "text/plain": [
       "<matplotlib.axes._subplots.AxesSubplot at 0x106ac6978>"
      ]
     },
     "execution_count": 28,
     "metadata": {},
     "output_type": "execute_result"
    },
    {
     "data": {
      "image/png": "[encoded data removed]",
      "text/plain": [
       "<matplotlib.figure.Figure at 0x106bf07b8>"
      ]
     },
     "metadata": {},
     "output_type": "display_data"
    }
   ],
   "source": [
    "df.plot(kind='scatter', x='Incomeperperson',y='Co2emissions')"
   ]
  },
  {
   "cell_type": "code",
   "execution_count": 10,
   "metadata": {
    "collapsed": true
   },
   "outputs": [],
   "source": [
    "for i in df.columns.tolist():\n",
    "    try:\n",
    "        df[i] = df[i].astype(float)\n",
    "    except ValueError:\n",
    "        pass"
   ]
  },
  {
   "cell_type": "code",
   "execution_count": 18,
   "metadata": {
    "collapsed": false
   },
   "outputs": [
    {
     "data": {
      "text/plain": [
       "0                      \n",
       "1      1914.99655094922\n",
       "2      2231.99333515006\n",
       "3      21943.3398976022\n",
       "4      1381.00426770244\n",
       "5      11894.4640745081\n",
       "6      10749.4192379463\n",
       "7      1326.74175718861\n",
       "8                      \n",
       "9        25249.98606148\n",
       "10     26692.9841066319\n",
       "11     2344.89691619809\n",
       "12     19630.5405471267\n",
       "13     12505.2125447354\n",
       "14     558.062876627297\n",
       "15     9243.58705259742\n",
       "16     2737.67037938365\n",
       "17     24496.0482640925\n",
       "18       3545.652173906\n",
       "19     377.039699461343\n",
       "20     62682.1470059121\n",
       "21     1324.19490626644\n",
       "22     1232.79413697982\n",
       "23     2183.34486702398\n",
       "24     4189.43658749046\n",
       "25     4699.41126207406\n",
       "26      17092.460003775\n",
       "27     2549.55847381023\n",
       "28     276.200412964869\n",
       "29     115.305995904875\n",
       "             ...       \n",
       "183    1810.23053262504\n",
       "184    32292.4829838735\n",
       "185     37662.751249706\n",
       "186    1525.78011590162\n",
       "187                    \n",
       "188    279.180452556006\n",
       "189    456.385711651118\n",
       "190    2712.51719873012\n",
       "191    369.572953736655\n",
       "192    285.224449254519\n",
       "193    2025.28266492268\n",
       "194    10480.8172032185\n",
       "195     3164.9276932512\n",
       "196    5348.59719186494\n",
       "197     2062.1251523574\n",
       "198    1714.94288994653\n",
       "199    377.421113256942\n",
       "200      1036.830724903\n",
       "201    21087.3941247583\n",
       "202    28033.4892827622\n",
       "203    37491.1795229012\n",
       "204    9106.32723421876\n",
       "205    952.827260827539\n",
       "206    1543.95645667048\n",
       "207    5528.36311387522\n",
       "208    722.807558834445\n",
       "209                    \n",
       "210      610.3573673206\n",
       "211    432.226336974583\n",
       "212    320.771889948584\n",
       "Name: incomeperperson, dtype: object"
      ]
     },
     "execution_count": 18,
     "metadata": {},
     "output_type": "execute_result"
    }
   ],
   "source": [
    "df.incomeperperson"
   ]
  }
 ],
 "metadata": {
  "kernelspec": {
   "display_name": "Python 3",
   "language": "python",
   "name": "python3"
  },
  "language_info": {
   "codemirror_mode": {
    "name": "ipython",
    "version": 3
   },
   "file_extension": ".py",
   "mimetype": "text/x-python",
   "name": "python",
   "nbconvert_exporter": "python",
   "pygments_lexer": "ipython3",
   "version": "3.4.3"
  }
 },
 "nbformat": 4,
 "nbformat_minor": 0
}
