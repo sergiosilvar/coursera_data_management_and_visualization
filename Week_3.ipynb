{
 "cells": [
  {
   "cell_type": "markdown",
   "metadata": {},
   "source": [
    "#Table of Contents\n",
    "* [1. Week 3 assignment](#1.-Week-3-assignment)\n",
    "\t* [1.1 Overview of the variables selected](#1.1-Overview-of-the-variables-selected)\n",
    "\t* [1.2 Counting the missing values in each variable](#1.2-Counting-the-missing-values-in-each-variable)\n",
    "\t* [1.3 Calculate new variables](#1.3-Calculate-new-variables)\n",
    "\t\t* [1.3.1 New variable `oil_consumed`](#1.3.1-New-variable-oil_consumed)\n",
    "\t\t* [1.3.2 New variable `womem_army_rate`](#1.3.2-New-variable-womem_army_rate)\n",
    "\t* [1.4 Frequency tables](#1.4-Frequency-tables)\n",
    "\t\t* [1.4.1 Variable \"polityscore\"](#1.4.1-Variable-\"polityscore\")\n",
    "\t\t* [1.4.2 Variable \"womem_army_rate\"](#1.4.2-Variable-\"womem_army_rate\")\n",
    "\t\t* [1.4.3 Variable \"oil_consumed\"](#1.4.3-Variable-\"oil_consumed\")\n"
   ]
  },
  {
   "cell_type": "markdown",
   "metadata": {},
   "source": [
    "# 1. Week 3 assignment"
   ]
  },
  {
   "cell_type": "markdown",
   "metadata": {},
   "source": [
    "The dataset chosen is Gapminder. You can check the codebook [clicking here](https://github.com/srodriguex/coursera_data_management_and_visualization/raw/master/data/GapMinder%20Codebook%20.pdf).\n",
    "\n",
    "As we saw in [Week 2 assignment](https://github.com/srodriguex/coursera_data_management_and_visualization/blob/master/Week_2.ipynb), a lot of countries have missing values in the variables chosen. There is no workaround here like in the videos because they are not \"not aplicable\" values, just values that the Gapminder was not able to compute, either the data is not available in the source country, either the source is not trusted. But, in order to try to fulfil the assignment requirements, I won't drop countries with missing values this time, and decide case by case what to do.\n",
    "\n",
    "To use this program you must have [Python](http://www.python.org) 3.3+ and [IPython Notebook](http://ipython.org) 1.0+ installed."
   ]
  },
  {
   "cell_type": "code",
   "execution_count": 1,
   "metadata": {
    "collapsed": false
   },
   "outputs": [
    {
     "name": "stdout",
     "output_type": "stream",
     "text": [
      "Populating the interactive namespace from numpy and matplotlib\n"
     ]
    },
    {
     "name": "stderr",
     "output_type": "stream",
     "text": [
      "/Users/sergio/anaconda3/lib/python3.4/site-packages/IPython/kernel/__main__.py:10: FutureWarning: convert_objects is deprecated.  Use the data-type specific converters pd.to_datetime, pd.to_timedelta and pd.to_numeric.\n"
     ]
    }
   ],
   "source": [
    "%pylab inline\n",
    "\n",
    "# This package is very useful to data analysis in Python.\n",
    "import pandas as pd\n",
    "\n",
    "# Read the csv file to a dataframe object.\n",
    "df = pd.read_csv('data/gapminder.csv')\n",
    "\n",
    "# Convert all number values to float.\n",
    "df = df.convert_objects(convert_numeric=True)\n",
    "\n",
    "# Define the Country as the unique id of the dataframe.\n",
    "df.index = df.country\n",
    "del df['country']\n",
    "\n",
    "# List of the variables selected.\n",
    "vars_sel = ['polityscore', 'oilperperson', 'relectricperperson', 'employrate', \n",
    "            'lifeexpectancy', 'armedforcesrate', 'urbanrate', 'femaleemployrate']\n",
    "\n",
    "\n",
    "# Dataframe with only the variables selected.\n",
    "dfs = df[vars_sel]\n",
    "\n"
   ]
  },
  {
   "cell_type": "markdown",
   "metadata": {},
   "source": [
    "## 1.2 Counting the missing values in each variable"
   ]
  },
  {
   "cell_type": "markdown",
   "metadata": {},
   "source": [
    "Pandas DataFrame has a nice feature to count the missin values. The function `isnull()` returns a boolean array where the value `TRUE` is set if the variable is missing and `FALSE` otherwise. As Python takes the `TRUE` value boolean value as the integer 1 and `FALSE` the integer 0, we just have to call `sum()` to wrap up the results."
   ]
  },
  {
   "cell_type": "code",
   "execution_count": 3,
   "metadata": {
    "collapsed": false
   },
   "outputs": [
    {
     "data": {
      "text/plain": [
       "polityscore            52\n",
       "oilperperson          150\n",
       "relectricperperson     77\n",
       "employrate             35\n",
       "lifeexpectancy         22\n",
       "armedforcesrate        49\n",
       "urbanrate              10\n",
       "femaleemployrate       35\n",
       "dtype: int64"
      ]
     },
     "execution_count": 3,
     "metadata": {},
     "output_type": "execute_result"
    }
   ],
   "source": [
    "dfs.isnull().sum()"
   ]
  },
  {
   "cell_type": "markdown",
   "metadata": {},
   "source": [
    "The Gapminder Dataset has 213 countries listed. Let's calculate the percentage of missing countries in each variable."
   ]
  },
  {
   "cell_type": "code",
   "execution_count": 4,
   "metadata": {
    "collapsed": false
   },
   "outputs": [
    {
     "data": {
      "text/html": [
       "<div>\n",
       "<table border=\"1\" class=\"dataframe\">\n",
       "  <thead>\n",
       "    <tr style=\"text-align: right;\">\n",
       "      <th></th>\n",
       "      <th>Count</th>\n",
       "      <th>Percentage</th>\n",
       "    </tr>\n",
       "    <tr>\n",
       "      <th>Variable</th>\n",
       "      <th></th>\n",
       "      <th></th>\n",
       "    </tr>\n",
       "  </thead>\n",
       "  <tbody>\n",
       "    <tr>\n",
       "      <th>polityscore</th>\n",
       "      <td>52</td>\n",
       "      <td>12.09</td>\n",
       "    </tr>\n",
       "    <tr>\n",
       "      <th>oilperperson</th>\n",
       "      <td>150</td>\n",
       "      <td>34.88</td>\n",
       "    </tr>\n",
       "    <tr>\n",
       "      <th>relectricperperson</th>\n",
       "      <td>77</td>\n",
       "      <td>17.91</td>\n",
       "    </tr>\n",
       "    <tr>\n",
       "      <th>employrate</th>\n",
       "      <td>35</td>\n",
       "      <td>8.14</td>\n",
       "    </tr>\n",
       "    <tr>\n",
       "      <th>lifeexpectancy</th>\n",
       "      <td>22</td>\n",
       "      <td>5.12</td>\n",
       "    </tr>\n",
       "    <tr>\n",
       "      <th>armedforcesrate</th>\n",
       "      <td>49</td>\n",
       "      <td>11.40</td>\n",
       "    </tr>\n",
       "    <tr>\n",
       "      <th>urbanrate</th>\n",
       "      <td>10</td>\n",
       "      <td>2.33</td>\n",
       "    </tr>\n",
       "    <tr>\n",
       "      <th>femaleemployrate</th>\n",
       "      <td>35</td>\n",
       "      <td>8.14</td>\n",
       "    </tr>\n",
       "  </tbody>\n",
       "</table>\n",
       "</div>"
      ],
      "text/plain": [
       "                    Count  Percentage\n",
       "Variable                             \n",
       "polityscore            52       12.09\n",
       "oilperperson          150       34.88\n",
       "relectricperperson     77       17.91\n",
       "employrate             35        8.14\n",
       "lifeexpectancy         22        5.12\n",
       "armedforcesrate        49       11.40\n",
       "urbanrate              10        2.33\n",
       "femaleemployrate       35        8.14"
      ]
     },
     "execution_count": 4,
     "metadata": {},
     "output_type": "execute_result"
    }
   ],
   "source": [
    "# Count the missing variables.\n",
    "missing_values = dfs.isnull().sum()\n",
    "\n",
    "# Calculate the respective percentage.\n",
    "percent = (missing_values/missing_values.sum()*100).round(2)\n",
    "\n",
    "# Create a pandas.DataFrame object to pretty print the results.\n",
    "mdf = pd.DataFrame({'Count':missing_values, 'Percentage': percent})\n",
    "mdf.index.name = 'Variable'\n",
    "mdf"
   ]
  },
  {
   "cell_type": "markdown",
   "metadata": {},
   "source": [
    "We can see above that the `oilperperson` is the most missing varible, accounting to drop 150 countries. Maybe we shouldn't use use this variable anymore."
   ]
  },
  {
   "cell_type": "markdown",
   "metadata": {},
   "source": [
    "## 1.3 Calculate new variables"
   ]
  },
  {
   "cell_type": "markdown",
   "metadata": {},
   "source": [
    "### 1.3.1 New variable `oil_consumed`"
   ]
  },
  {
   "cell_type": "markdown",
   "metadata": {},
   "source": [
    "In order to fulfil the assignment let's create a new variable combining `oilperperson` and `lifeexpectancy` variables. Let's calculate the expected tonnes of oil a person can consume in his entire life, supposing this consumptions begins with 20 years. This new variable, `oil_consumed`, is then stated as:\n",
    "\n",
    "$$oil\\_consumed = oilperperson * (lifeexpectancy-20)$$"
   ]
  },
  {
   "cell_type": "code",
   "execution_count": 5,
   "metadata": {
    "collapsed": false
   },
   "outputs": [
    {
     "data": {
      "text/plain": [
       "count     62.000000\n",
       "mean      85.523760\n",
       "std      110.124175\n",
       "min        1.579984\n",
       "25%       25.343760\n",
       "50%       50.492618\n",
       "75%       98.855828\n",
       "max      747.488154\n",
       "Name: oil_consumed, dtype: float64"
      ]
     },
     "execution_count": 5,
     "metadata": {},
     "output_type": "execute_result"
    }
   ],
   "source": [
    "# Calculate the new variable.\n",
    "df['oil_consumed'] = df.oilperperson * (df.lifeexpectancy - 20)\n",
    "\n",
    "# Print an overview of this new variable.\n",
    "df.oil_consumed.describe()"
   ]
  },
  {
   "cell_type": "markdown",
   "metadata": {},
   "source": [
    "### 1.3.2 New variable `womem_army_rate`"
   ]
  },
  {
   "cell_type": "markdown",
   "metadata": {},
   "source": [
    "Another variable is the number of womem in the army. We take the assumption that this can be calculated as follows:\n",
    "\n",
    "$$womem\\_army\\_rate = armedforcesrate * femaleemployrate/100$$"
   ]
  },
  {
   "cell_type": "code",
   "execution_count": 6,
   "metadata": {
    "collapsed": false
   },
   "outputs": [
    {
     "data": {
      "text/plain": [
       "count    163.000000\n",
       "mean       0.598049\n",
       "std        0.760118\n",
       "min        0.000000\n",
       "25%        0.228521\n",
       "50%        0.408831\n",
       "75%        0.671941\n",
       "max        5.957572\n",
       "Name: womem_army_rate, dtype: float64"
      ]
     },
     "execution_count": 6,
     "metadata": {},
     "output_type": "execute_result"
    }
   ],
   "source": [
    "# Calculate the new variable.\n",
    "df['womem_army_rate'] = df.armedforcesrate * df.femaleemployrate/100\n",
    "\n",
    "# Print an overview of this new variable.\n",
    "df.womem_army_rate.describe()"
   ]
  },
  {
   "cell_type": "markdown",
   "metadata": {},
   "source": [
    "As we can see above, nearly 75% of countries army have less than 1% womem in their ranks."
   ]
  },
  {
   "cell_type": "markdown",
   "metadata": {},
   "source": [
    "### New variable `urban_level`"
   ]
  },
  {
   "cell_type": "markdown",
   "metadata": {},
   "source": [
    "This variable will be a categorization of the continuous variable `urbanrate`."
   ]
  },
  {
   "cell_type": "code",
   "execution_count": 38,
   "metadata": {
    "collapsed": false
   },
   "outputs": [],
   "source": [
    "df['urban_level'] = pd.cut(df.urbanrate, [ 0, 20, 50, 70, 90,100], \n",
    "                           labels=['very low', 'low','medium','high', 'very high'])"
   ]
  },
  {
   "cell_type": "markdown",
   "metadata": {},
   "source": [
    "## 1.1 Overview of the variables created"
   ]
  },
  {
   "cell_type": "markdown",
   "metadata": {},
   "source": [
    "Here I show you an overview of the variables create. Here you can see the extreme values, mean, standard deviation, and and quatiles 25%, 50% (median) and 75%. Note that the `count` row actualy count the non missing values. If there weren't missing values, count would be 213, the number of countries in this dataset. Finally, the variabe `urban_level` is not shown here because it's categorical and pandas `describe()` function only display numeric data. Well see its Frequency Table in the properly section."
   ]
  },
  {
   "cell_type": "code",
   "execution_count": 42,
   "metadata": {
    "collapsed": false
   },
   "outputs": [
    {
     "data": {
      "text/html": [
       "<div>\n",
       "<table border=\"1\" class=\"dataframe\">\n",
       "  <thead>\n",
       "    <tr style=\"text-align: right;\">\n",
       "      <th></th>\n",
       "      <th>oil_consumed</th>\n",
       "      <th>womem_army_rate</th>\n",
       "    </tr>\n",
       "  </thead>\n",
       "  <tbody>\n",
       "    <tr>\n",
       "      <th>count</th>\n",
       "      <td>62.000000</td>\n",
       "      <td>163.000000</td>\n",
       "    </tr>\n",
       "    <tr>\n",
       "      <th>mean</th>\n",
       "      <td>85.523760</td>\n",
       "      <td>0.598049</td>\n",
       "    </tr>\n",
       "    <tr>\n",
       "      <th>std</th>\n",
       "      <td>110.124175</td>\n",
       "      <td>0.760118</td>\n",
       "    </tr>\n",
       "    <tr>\n",
       "      <th>min</th>\n",
       "      <td>1.579984</td>\n",
       "      <td>0.000000</td>\n",
       "    </tr>\n",
       "    <tr>\n",
       "      <th>25%</th>\n",
       "      <td>25.343760</td>\n",
       "      <td>0.228521</td>\n",
       "    </tr>\n",
       "    <tr>\n",
       "      <th>50%</th>\n",
       "      <td>50.492618</td>\n",
       "      <td>0.408831</td>\n",
       "    </tr>\n",
       "    <tr>\n",
       "      <th>75%</th>\n",
       "      <td>98.855828</td>\n",
       "      <td>0.671941</td>\n",
       "    </tr>\n",
       "    <tr>\n",
       "      <th>max</th>\n",
       "      <td>747.488154</td>\n",
       "      <td>5.957572</td>\n",
       "    </tr>\n",
       "  </tbody>\n",
       "</table>\n",
       "</div>"
      ],
      "text/plain": [
       "       oil_consumed  womem_army_rate\n",
       "count     62.000000       163.000000\n",
       "mean      85.523760         0.598049\n",
       "std      110.124175         0.760118\n",
       "min        1.579984         0.000000\n",
       "25%       25.343760         0.228521\n",
       "50%       50.492618         0.408831\n",
       "75%       98.855828         0.671941\n",
       "max      747.488154         5.957572"
      ]
     },
     "execution_count": 42,
     "metadata": {},
     "output_type": "execute_result"
    }
   ],
   "source": [
    "df[['oil_consumed','womem_army_rate']].describe()"
   ]
  },
  {
   "cell_type": "markdown",
   "metadata": {},
   "source": [
    "## Frequency Tables"
   ]
  },
  {
   "cell_type": "code",
   "execution_count": 43,
   "metadata": {
    "collapsed": false
   },
   "outputs": [],
   "source": [
    "# Helper function to print the frequency values as an HTML table.\n",
    "def print_freq_table(series):\n",
    "    # Count the frequency of values. \n",
    "    #This is a pandas.Series object.\n",
    "    x = series.value_counts()\n",
    "    \n",
    "    # Sort the table by the values taken, rather than \n",
    "    # the default descending order of frequencies.\n",
    "    x = x.sort_index()\n",
    "    \n",
    "    # Convert the pandas.Series.object to pandas.DataFrame in order to\n",
    "    # name the values and frequencies properly. \n",
    "    x = pd.DataFrame(x)\n",
    "    x['% Frequency'] = (x/x.sum()).round(2)*100\n",
    "    x.columns = ['Frequency', '% Frequency']\n",
    "    x.index.name = 'Values'\n",
    "    \n",
    "    # Finally, return the object. If run in a IPython Notebook, it will\n",
    "    # print a nice HTML table.\n",
    "    return x"
   ]
  },
  {
   "cell_type": "markdown",
   "metadata": {},
   "source": [
    "## 1.4 Frequency tables"
   ]
  },
  {
   "cell_type": "markdown",
   "metadata": {},
   "source": [
    "### 1.4.3 Variable \"oil_consumed\""
   ]
  },
  {
   "cell_type": "code",
   "execution_count": 44,
   "metadata": {
    "collapsed": false
   },
   "outputs": [
    {
     "data": {
      "text/html": [
       "<div>\n",
       "<table border=\"1\" class=\"dataframe\">\n",
       "  <thead>\n",
       "    <tr style=\"text-align: right;\">\n",
       "      <th></th>\n",
       "      <th>Frequency</th>\n",
       "      <th>% Frequency</th>\n",
       "    </tr>\n",
       "    <tr>\n",
       "      <th>Values</th>\n",
       "      <th></th>\n",
       "      <th></th>\n",
       "    </tr>\n",
       "  </thead>\n",
       "  <tbody>\n",
       "    <tr>\n",
       "      <th>(0.834, 76.171]</th>\n",
       "      <td>38</td>\n",
       "      <td>61</td>\n",
       "    </tr>\n",
       "    <tr>\n",
       "      <th>(76.171, 150.762]</th>\n",
       "      <td>16</td>\n",
       "      <td>26</td>\n",
       "    </tr>\n",
       "    <tr>\n",
       "      <th>(150.762, 225.352]</th>\n",
       "      <td>3</td>\n",
       "      <td>5</td>\n",
       "    </tr>\n",
       "    <tr>\n",
       "      <th>(225.352, 299.943]</th>\n",
       "      <td>3</td>\n",
       "      <td>5</td>\n",
       "    </tr>\n",
       "    <tr>\n",
       "      <th>(299.943, 374.534]</th>\n",
       "      <td>1</td>\n",
       "      <td>2</td>\n",
       "    </tr>\n",
       "    <tr>\n",
       "      <th>(374.534, 449.125]</th>\n",
       "      <td>0</td>\n",
       "      <td>0</td>\n",
       "    </tr>\n",
       "    <tr>\n",
       "      <th>(449.125, 523.716]</th>\n",
       "      <td>0</td>\n",
       "      <td>0</td>\n",
       "    </tr>\n",
       "    <tr>\n",
       "      <th>(523.716, 598.307]</th>\n",
       "      <td>0</td>\n",
       "      <td>0</td>\n",
       "    </tr>\n",
       "    <tr>\n",
       "      <th>(598.307, 672.897]</th>\n",
       "      <td>0</td>\n",
       "      <td>0</td>\n",
       "    </tr>\n",
       "    <tr>\n",
       "      <th>(672.897, 747.488]</th>\n",
       "      <td>1</td>\n",
       "      <td>2</td>\n",
       "    </tr>\n",
       "  </tbody>\n",
       "</table>\n",
       "</div>"
      ],
      "text/plain": [
       "                    Frequency  % Frequency\n",
       "Values                                    \n",
       "(0.834, 76.171]            38           61\n",
       "(76.171, 150.762]          16           26\n",
       "(150.762, 225.352]          3            5\n",
       "(225.352, 299.943]          3            5\n",
       "(299.943, 374.534]          1            2\n",
       "(374.534, 449.125]          0            0\n",
       "(449.125, 523.716]          0            0\n",
       "(523.716, 598.307]          0            0\n",
       "(598.307, 672.897]          0            0\n",
       "(672.897, 747.488]          1            2"
      ]
     },
     "execution_count": 44,
     "metadata": {},
     "output_type": "execute_result"
    }
   ],
   "source": [
    "print_freq_table(pd.cut(df.oil_consumed, NUM_BUCKETS))"
   ]
  },
  {
   "cell_type": "markdown",
   "metadata": {},
   "source": [
    "End of assignment."
   ]
  },
  {
   "cell_type": "markdown",
   "metadata": {},
   "source": [
    "### 1.4.2 Variable \"womem_army_rate\""
   ]
  },
  {
   "cell_type": "code",
   "execution_count": 45,
   "metadata": {
    "collapsed": false
   },
   "outputs": [
    {
     "data": {
      "text/html": [
       "<div>\n",
       "<table border=\"1\" class=\"dataframe\">\n",
       "  <thead>\n",
       "    <tr style=\"text-align: right;\">\n",
       "      <th></th>\n",
       "      <th>Frequency</th>\n",
       "      <th>% Frequency</th>\n",
       "    </tr>\n",
       "    <tr>\n",
       "      <th>Values</th>\n",
       "      <th></th>\n",
       "      <th></th>\n",
       "    </tr>\n",
       "  </thead>\n",
       "  <tbody>\n",
       "    <tr>\n",
       "      <th>(-0.00596, 0.596]</th>\n",
       "      <td>114</td>\n",
       "      <td>70</td>\n",
       "    </tr>\n",
       "    <tr>\n",
       "      <th>(0.596, 1.192]</th>\n",
       "      <td>35</td>\n",
       "      <td>21</td>\n",
       "    </tr>\n",
       "    <tr>\n",
       "      <th>(1.192, 1.787]</th>\n",
       "      <td>6</td>\n",
       "      <td>4</td>\n",
       "    </tr>\n",
       "    <tr>\n",
       "      <th>(1.787, 2.383]</th>\n",
       "      <td>2</td>\n",
       "      <td>1</td>\n",
       "    </tr>\n",
       "    <tr>\n",
       "      <th>(2.383, 2.979]</th>\n",
       "      <td>2</td>\n",
       "      <td>1</td>\n",
       "    </tr>\n",
       "    <tr>\n",
       "      <th>(2.979, 3.575]</th>\n",
       "      <td>2</td>\n",
       "      <td>1</td>\n",
       "    </tr>\n",
       "    <tr>\n",
       "      <th>(3.575, 4.17]</th>\n",
       "      <td>0</td>\n",
       "      <td>0</td>\n",
       "    </tr>\n",
       "    <tr>\n",
       "      <th>(4.17, 4.766]</th>\n",
       "      <td>0</td>\n",
       "      <td>0</td>\n",
       "    </tr>\n",
       "    <tr>\n",
       "      <th>(4.766, 5.362]</th>\n",
       "      <td>1</td>\n",
       "      <td>1</td>\n",
       "    </tr>\n",
       "    <tr>\n",
       "      <th>(5.362, 5.958]</th>\n",
       "      <td>1</td>\n",
       "      <td>1</td>\n",
       "    </tr>\n",
       "  </tbody>\n",
       "</table>\n",
       "</div>"
      ],
      "text/plain": [
       "                   Frequency  % Frequency\n",
       "Values                                   \n",
       "(-0.00596, 0.596]        114           70\n",
       "(0.596, 1.192]            35           21\n",
       "(1.192, 1.787]             6            4\n",
       "(1.787, 2.383]             2            1\n",
       "(2.383, 2.979]             2            1\n",
       "(2.979, 3.575]             2            1\n",
       "(3.575, 4.17]              0            0\n",
       "(4.17, 4.766]              0            0\n",
       "(4.766, 5.362]             1            1\n",
       "(5.362, 5.958]             1            1"
      ]
     },
     "execution_count": 45,
     "metadata": {},
     "output_type": "execute_result"
    }
   ],
   "source": [
    "NUM_BUCKETS = 10\n",
    "print_freq_table(pd.cut(df.womem_army_rate, NUM_BUCKETS))"
   ]
  },
  {
   "cell_type": "markdown",
   "metadata": {},
   "source": [
    "### 1.4.1 Variable \"urban_level\""
   ]
  },
  {
   "cell_type": "code",
   "execution_count": 46,
   "metadata": {
    "collapsed": false
   },
   "outputs": [
    {
     "data": {
      "text/html": [
       "<div>\n",
       "<table border=\"1\" class=\"dataframe\">\n",
       "  <thead>\n",
       "    <tr style=\"text-align: right;\">\n",
       "      <th></th>\n",
       "      <th>Frequency</th>\n",
       "      <th>% Frequency</th>\n",
       "    </tr>\n",
       "    <tr>\n",
       "      <th>Values</th>\n",
       "      <th></th>\n",
       "      <th></th>\n",
       "    </tr>\n",
       "  </thead>\n",
       "  <tbody>\n",
       "    <tr>\n",
       "      <th>very low</th>\n",
       "      <td>13</td>\n",
       "      <td>6</td>\n",
       "    </tr>\n",
       "    <tr>\n",
       "      <th>low</th>\n",
       "      <td>68</td>\n",
       "      <td>33</td>\n",
       "    </tr>\n",
       "    <tr>\n",
       "      <th>medium</th>\n",
       "      <td>58</td>\n",
       "      <td>29</td>\n",
       "    </tr>\n",
       "    <tr>\n",
       "      <th>high</th>\n",
       "      <td>45</td>\n",
       "      <td>22</td>\n",
       "    </tr>\n",
       "    <tr>\n",
       "      <th>very high</th>\n",
       "      <td>19</td>\n",
       "      <td>9</td>\n",
       "    </tr>\n",
       "  </tbody>\n",
       "</table>\n",
       "</div>"
      ],
      "text/plain": [
       "           Frequency  % Frequency\n",
       "Values                           \n",
       "very low          13            6\n",
       "low               68           33\n",
       "medium            58           29\n",
       "high              45           22\n",
       "very high         19            9"
      ]
     },
     "execution_count": 46,
     "metadata": {},
     "output_type": "execute_result"
    }
   ],
   "source": [
    "print_freq_table(df['urban_level'])"
   ]
  },
  {
   "cell_type": "markdown",
   "metadata": {},
   "source": [
    "End of assignment."
   ]
  }
 ],
 "metadata": {
  "kernelspec": {
   "display_name": "Python 3",
   "language": "python",
   "name": "python3"
  },
  "language_info": {
   "codemirror_mode": {
    "name": "ipython",
    "version": 3
   },
   "file_extension": ".py",
   "mimetype": "text/x-python",
   "name": "python",
   "nbconvert_exporter": "python",
   "pygments_lexer": "ipython3",
   "version": "3.4.3"
  }
 },
 "nbformat": 4,
 "nbformat_minor": 0
}
