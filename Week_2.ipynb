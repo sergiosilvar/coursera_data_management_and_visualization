{
 "cells": [
  {
   "cell_type": "markdown",
   "metadata": {},
   "source": [
    "#Table of Contents\n",
    "* [1. Week 2 assignment](#1.-Week-2-assignment)\n",
    "\t* [1.1 Frequency tables](#1.1-Frequency-tables)\n",
    "\t\t* [1.1.1 Variable \"polityscore\"](#1.1.1-Variable-\"polityscore\")\n",
    "\t\t* [1.1.2 Variable \"lifeexpectancy\"](#1.1.2-Variable-\"lifeexpectancy\")\n",
    "\t\t* [1.1.3 Variable \"oilperperson\"](#1.1.3-Variable-\"oilperperson\")\n",
    "\t\t* [1.1.4 Variable \"armedforcesrate\"](#1.1.4-Variable-\"armedforcesrate\")\n",
    "\t* [1.2 Overview of the variables selected](#1.2-Overview-of-the-variables-selected)\n"
   ]
  },
  {
   "cell_type": "markdown",
   "metadata": {},
   "source": [
    "# 1. Week 2 assignment"
   ]
  },
  {
   "cell_type": "markdown",
   "metadata": {},
   "source": [
    "The dataset chosen was the Gapminder. You can check the codebook [clicking here](https://github.com/srodriguex/coursera_data_management_and_visualization/raw/master/data/GapMinder%20Codebook%20.pdf).\n",
    "\n",
    "To use this program you must have [Python](http://www.python.org) 2.7+ and [IPython Notebook](http://ipython.org) 1.0+ installed."
   ]
  },
  {
   "cell_type": "code",
   "execution_count": 1,
   "metadata": {
    "collapsed": false
   },
   "outputs": [
    {
     "name": "stderr",
     "output_type": "stream",
     "text": [
      "/Users/sergio/anaconda3/lib/python3.4/site-packages/IPython/kernel/__main__.py:8: FutureWarning: convert_objects is deprecated.  Use the data-type specific converters pd.to_datetime, pd.to_timedelta and pd.to_numeric.\n"
     ]
    }
   ],
   "source": [
    "# This package is very useful to data analysis in Python.\n",
    "import pandas as pd\n",
    "\n",
    "# Read the csv file to a dataframe object.\n",
    "df = pd.read_csv('data/gapminder.csv')\n",
    "\n",
    "# Convert all number values to float.\n",
    "df = df.convert_objects(convert_numeric=True)\n",
    "\n",
    "# Define the Country as the unique id of the dataframe.\n",
    "df.index = df.country\n",
    "del df['country']\n",
    "\n",
    "# List of the variables selected.\n",
    "vars_sel = ['polityscore', 'oilperperson', 'relectricperperson', 'employrate', \n",
    "            'lifeexpectancy', 'armedforcesrate', 'urbanrate', 'femaleemployrate']\n",
    "\n",
    "\n",
    "# Dataframe with only the variables selected.\n",
    "dfs = df[vars_sel]\n",
    "\n",
    "# Number of countries before the removal of ones wiht missing variables.\n",
    "n_countries_before = dfs.shape[0]\n",
    "\n",
    "# Remove all countries that have at least one variable missing.\n",
    "dfs = dfs.dropna()\n",
    "\n",
    "# Number of countries after the removal of ones wiht missing variables.\n",
    "n_countries_after = dfs.shape[0]\n"
   ]
  },
  {
   "cell_type": "markdown",
   "metadata": {},
   "source": [
    "## 1.1 Frequency tables"
   ]
  },
  {
   "cell_type": "markdown",
   "metadata": {},
   "source": [
    "Here I show you the frequency tables for three variables I've choosen. Please, note that in this dataset almost all the variables take continuous values, what make the frequency tables show several lines wiht frequency of 1. \n",
    "\n",
    "Below I constructed a helper function to pretty print the tables, using the HTML default output of pandas.DataFrames object when displayed in IPython Notebook."
   ]
  },
  {
   "cell_type": "code",
   "execution_count": 2,
   "metadata": {
    "collapsed": false
   },
   "outputs": [],
   "source": [
    "# Helper function to print the frequency values as an HTML table.\n",
    "def print_freq_table(series):\n",
    "    # Count the frequency of values. \n",
    "    #This is a pandas.Series object.\n",
    "    x = series.value_counts()\n",
    "    \n",
    "    # Sort the table by the values taken, rather than \n",
    "    # the default descending order of frequencies.\n",
    "    x = x.sort_index()\n",
    "    \n",
    "    # Convert the pandas.Series.object to pandas.DataFrame in order to\n",
    "    # name the values and frequencies properly. \n",
    "    x = pd.DataFrame(x)\n",
    "    x['% Frequency'] = (x/x.sum()).round(2)*100\n",
    "    x.columns = ['Frequency', '% Frequency']\n",
    "    x.index.name = 'Values'\n",
    "    \n",
    "    # Finally, return the object. If run in a IPython Notebook, it will\n",
    "    # print a nice HTML table.\n",
    "    return x"
   ]
  },
  {
   "cell_type": "markdown",
   "metadata": {},
   "source": [
    "### 1.1.1 Variable \"polityscore\""
   ]
  },
  {
   "cell_type": "markdown",
   "metadata": {},
   "source": [
    "This variable takes integer values between -10 and 10, and by the filter applied above which removed all countries with at least one variable missing, we see that give us a lot of countries, 60%, equal or above grade 8."
   ]
  },
  {
   "cell_type": "code",
   "execution_count": 3,
   "metadata": {
    "collapsed": false
   },
   "outputs": [
    {
     "data": {
      "text/html": [
       "<div>\n",
       "<table border=\"1\" class=\"dataframe\">\n",
       "  <thead>\n",
       "    <tr style=\"text-align: right;\">\n",
       "      <th></th>\n",
       "      <th>Frequency</th>\n",
       "      <th>% Frequency</th>\n",
       "    </tr>\n",
       "    <tr>\n",
       "      <th>Values</th>\n",
       "      <th></th>\n",
       "      <th></th>\n",
       "    </tr>\n",
       "  </thead>\n",
       "  <tbody>\n",
       "    <tr>\n",
       "      <th>-10</th>\n",
       "      <td>2</td>\n",
       "      <td>3</td>\n",
       "    </tr>\n",
       "    <tr>\n",
       "      <th>-9</th>\n",
       "      <td>2</td>\n",
       "      <td>3</td>\n",
       "    </tr>\n",
       "    <tr>\n",
       "      <th>-8</th>\n",
       "      <td>1</td>\n",
       "      <td>2</td>\n",
       "    </tr>\n",
       "    <tr>\n",
       "      <th>-7</th>\n",
       "      <td>5</td>\n",
       "      <td>8</td>\n",
       "    </tr>\n",
       "    <tr>\n",
       "      <th>-6</th>\n",
       "      <td>1</td>\n",
       "      <td>2</td>\n",
       "    </tr>\n",
       "    <tr>\n",
       "      <th>-3</th>\n",
       "      <td>2</td>\n",
       "      <td>3</td>\n",
       "    </tr>\n",
       "    <tr>\n",
       "      <th>-2</th>\n",
       "      <td>1</td>\n",
       "      <td>2</td>\n",
       "    </tr>\n",
       "    <tr>\n",
       "      <th>2</th>\n",
       "      <td>1</td>\n",
       "      <td>2</td>\n",
       "    </tr>\n",
       "    <tr>\n",
       "      <th>4</th>\n",
       "      <td>2</td>\n",
       "      <td>3</td>\n",
       "    </tr>\n",
       "    <tr>\n",
       "      <th>5</th>\n",
       "      <td>3</td>\n",
       "      <td>5</td>\n",
       "    </tr>\n",
       "    <tr>\n",
       "      <th>6</th>\n",
       "      <td>1</td>\n",
       "      <td>2</td>\n",
       "    </tr>\n",
       "    <tr>\n",
       "      <th>7</th>\n",
       "      <td>3</td>\n",
       "      <td>5</td>\n",
       "    </tr>\n",
       "    <tr>\n",
       "      <th>8</th>\n",
       "      <td>7</td>\n",
       "      <td>11</td>\n",
       "    </tr>\n",
       "    <tr>\n",
       "      <th>9</th>\n",
       "      <td>6</td>\n",
       "      <td>10</td>\n",
       "    </tr>\n",
       "    <tr>\n",
       "      <th>10</th>\n",
       "      <td>24</td>\n",
       "      <td>39</td>\n",
       "    </tr>\n",
       "  </tbody>\n",
       "</table>\n",
       "</div>"
      ],
      "text/plain": [
       "        Frequency  % Frequency\n",
       "Values                        \n",
       "-10             2            3\n",
       "-9              2            3\n",
       "-8              1            2\n",
       "-7              5            8\n",
       "-6              1            2\n",
       "-3              2            3\n",
       "-2              1            2\n",
       " 2              1            2\n",
       " 4              2            3\n",
       " 5              3            5\n",
       " 6              1            2\n",
       " 7              3            5\n",
       " 8              7           11\n",
       " 9              6           10\n",
       " 10            24           39"
      ]
     },
     "execution_count": 3,
     "metadata": {},
     "output_type": "execute_result"
    }
   ],
   "source": [
    "print_freq_table(dfs['polityscore'])"
   ]
  },
  {
   "cell_type": "markdown",
   "metadata": {},
   "source": [
    "### 1.1.2 Variable \"lifeexpectancy\""
   ]
  },
  {
   "cell_type": "markdown",
   "metadata": {},
   "source": [
    "The values take a continuous interval, thus letting the Frequency Table not a good tool to visualize the distribution of the values. Let's organize the values into 10 buckets, as to convert from continuous to categorical values. The result is 57% of countries with life expectancy above 74 years. This generates a suspect that filtering countries with any value missign set a bias in healthy countries being selected."
   ]
  },
  {
   "cell_type": "code",
   "execution_count": 4,
   "metadata": {
    "collapsed": false
   },
   "outputs": [
    {
     "data": {
      "text/html": [
       "<div>\n",
       "<table border=\"1\" class=\"dataframe\">\n",
       "  <thead>\n",
       "    <tr style=\"text-align: right;\">\n",
       "      <th></th>\n",
       "      <th>Frequency</th>\n",
       "      <th>% Frequency</th>\n",
       "    </tr>\n",
       "    <tr>\n",
       "      <th>Values</th>\n",
       "      <th></th>\n",
       "      <th></th>\n",
       "    </tr>\n",
       "  </thead>\n",
       "  <tbody>\n",
       "    <tr>\n",
       "      <th>(52.766, 55.857]</th>\n",
       "      <td>1</td>\n",
       "      <td>2</td>\n",
       "    </tr>\n",
       "    <tr>\n",
       "      <th>(55.857, 58.916]</th>\n",
       "      <td>0</td>\n",
       "      <td>0</td>\n",
       "    </tr>\n",
       "    <tr>\n",
       "      <th>(58.916, 61.976]</th>\n",
       "      <td>0</td>\n",
       "      <td>0</td>\n",
       "    </tr>\n",
       "    <tr>\n",
       "      <th>(61.976, 65.0358]</th>\n",
       "      <td>1</td>\n",
       "      <td>2</td>\n",
       "    </tr>\n",
       "    <tr>\n",
       "      <th>(65.0358, 68.0955]</th>\n",
       "      <td>3</td>\n",
       "      <td>5</td>\n",
       "    </tr>\n",
       "    <tr>\n",
       "      <th>(68.0955, 71.155]</th>\n",
       "      <td>8</td>\n",
       "      <td>13</td>\n",
       "    </tr>\n",
       "    <tr>\n",
       "      <th>(71.155, 74.215]</th>\n",
       "      <td>13</td>\n",
       "      <td>21</td>\n",
       "    </tr>\n",
       "    <tr>\n",
       "      <th>(74.215, 77.275]</th>\n",
       "      <td>10</td>\n",
       "      <td>16</td>\n",
       "    </tr>\n",
       "    <tr>\n",
       "      <th>(77.275, 80.334]</th>\n",
       "      <td>9</td>\n",
       "      <td>15</td>\n",
       "    </tr>\n",
       "    <tr>\n",
       "      <th>(80.334, 83.394]</th>\n",
       "      <td>16</td>\n",
       "      <td>26</td>\n",
       "    </tr>\n",
       "  </tbody>\n",
       "</table>\n",
       "</div>"
      ],
      "text/plain": [
       "                    Frequency  % Frequency\n",
       "Values                                    \n",
       "(52.766, 55.857]            1            2\n",
       "(55.857, 58.916]            0            0\n",
       "(58.916, 61.976]            0            0\n",
       "(61.976, 65.0358]           1            2\n",
       "(65.0358, 68.0955]          3            5\n",
       "(68.0955, 71.155]           8           13\n",
       "(71.155, 74.215]           13           21\n",
       "(74.215, 77.275]           10           16\n",
       "(77.275, 80.334]            9           15\n",
       "(80.334, 83.394]           16           26"
      ]
     },
     "execution_count": 4,
     "metadata": {},
     "output_type": "execute_result"
    }
   ],
   "source": [
    "NUM_BUCKETS = 10\n",
    "print_freq_table(pd.cut(dfs.lifeexpectancy, NUM_BUCKETS))"
   ]
  },
  {
   "cell_type": "markdown",
   "metadata": {},
   "source": [
    "### 1.1.3 Variable \"oilperperson\""
   ]
  },
  {
   "cell_type": "markdown",
   "metadata": {},
   "source": [
    "Another variable that takes a continuous interval. This time 87% fo contries takes less than 2.47 tones per year per capita, and only one country takes the max bucket of oil consumption."
   ]
  },
  {
   "cell_type": "code",
   "execution_count": 5,
   "metadata": {
    "collapsed": false
   },
   "outputs": [
    {
     "data": {
      "text/html": [
       "<div>\n",
       "<table border=\"1\" class=\"dataframe\">\n",
       "  <thead>\n",
       "    <tr style=\"text-align: right;\">\n",
       "      <th></th>\n",
       "      <th>Frequency</th>\n",
       "      <th>% Frequency</th>\n",
       "    </tr>\n",
       "    <tr>\n",
       "      <th>Values</th>\n",
       "      <th></th>\n",
       "      <th></th>\n",
       "    </tr>\n",
       "  </thead>\n",
       "  <tbody>\n",
       "    <tr>\n",
       "      <th>(0.0201, 1.252]</th>\n",
       "      <td>38</td>\n",
       "      <td>62</td>\n",
       "    </tr>\n",
       "    <tr>\n",
       "      <th>(1.252, 2.472]</th>\n",
       "      <td>15</td>\n",
       "      <td>25</td>\n",
       "    </tr>\n",
       "    <tr>\n",
       "      <th>(2.472, 3.691]</th>\n",
       "      <td>3</td>\n",
       "      <td>5</td>\n",
       "    </tr>\n",
       "    <tr>\n",
       "      <th>(3.691, 4.911]</th>\n",
       "      <td>3</td>\n",
       "      <td>5</td>\n",
       "    </tr>\n",
       "    <tr>\n",
       "      <th>(4.911, 6.13]</th>\n",
       "      <td>0</td>\n",
       "      <td>0</td>\n",
       "    </tr>\n",
       "    <tr>\n",
       "      <th>(6.13, 7.35]</th>\n",
       "      <td>1</td>\n",
       "      <td>2</td>\n",
       "    </tr>\n",
       "    <tr>\n",
       "      <th>(7.35, 8.57]</th>\n",
       "      <td>0</td>\n",
       "      <td>0</td>\n",
       "    </tr>\n",
       "    <tr>\n",
       "      <th>(8.57, 9.789]</th>\n",
       "      <td>0</td>\n",
       "      <td>0</td>\n",
       "    </tr>\n",
       "    <tr>\n",
       "      <th>(9.789, 11.00901]</th>\n",
       "      <td>0</td>\n",
       "      <td>0</td>\n",
       "    </tr>\n",
       "    <tr>\n",
       "      <th>(11.00901, 12.229]</th>\n",
       "      <td>1</td>\n",
       "      <td>2</td>\n",
       "    </tr>\n",
       "  </tbody>\n",
       "</table>\n",
       "</div>"
      ],
      "text/plain": [
       "                    Frequency  % Frequency\n",
       "Values                                    \n",
       "(0.0201, 1.252]            38           62\n",
       "(1.252, 2.472]             15           25\n",
       "(2.472, 3.691]              3            5\n",
       "(3.691, 4.911]              3            5\n",
       "(4.911, 6.13]               0            0\n",
       "(6.13, 7.35]                1            2\n",
       "(7.35, 8.57]                0            0\n",
       "(8.57, 9.789]               0            0\n",
       "(9.789, 11.00901]           0            0\n",
       "(11.00901, 12.229]          1            2"
      ]
     },
     "execution_count": 5,
     "metadata": {},
     "output_type": "execute_result"
    }
   ],
   "source": [
    "print_freq_table(pd.cut(dfs.oilperperson, NUM_BUCKETS))"
   ]
  },
  {
   "cell_type": "markdown",
   "metadata": {},
   "source": [
    "### 1.1.4 Variable \"armedforcesrate\""
   ]
  },
  {
   "cell_type": "markdown",
   "metadata": {},
   "source": [
    "In this variable we see that the majority invest equal or less than 2.12% of their labor force in defense army."
   ]
  },
  {
   "cell_type": "code",
   "execution_count": 6,
   "metadata": {
    "collapsed": false
   },
   "outputs": [
    {
     "data": {
      "text/html": [
       "<div>\n",
       "<table border=\"1\" class=\"dataframe\">\n",
       "  <thead>\n",
       "    <tr style=\"text-align: right;\">\n",
       "      <th></th>\n",
       "      <th>Frequency</th>\n",
       "      <th>% Frequency</th>\n",
       "    </tr>\n",
       "    <tr>\n",
       "      <th>Values</th>\n",
       "      <th></th>\n",
       "      <th></th>\n",
       "    </tr>\n",
       "  </thead>\n",
       "  <tbody>\n",
       "    <tr>\n",
       "      <th>(0.282, 0.899]</th>\n",
       "      <td>26</td>\n",
       "      <td>43</td>\n",
       "    </tr>\n",
       "    <tr>\n",
       "      <th>(0.899, 1.509]</th>\n",
       "      <td>16</td>\n",
       "      <td>26</td>\n",
       "    </tr>\n",
       "    <tr>\n",
       "      <th>(1.509, 2.12]</th>\n",
       "      <td>10</td>\n",
       "      <td>16</td>\n",
       "    </tr>\n",
       "    <tr>\n",
       "      <th>(2.12, 2.731]</th>\n",
       "      <td>4</td>\n",
       "      <td>7</td>\n",
       "    </tr>\n",
       "    <tr>\n",
       "      <th>(2.731, 3.341]</th>\n",
       "      <td>3</td>\n",
       "      <td>5</td>\n",
       "    </tr>\n",
       "    <tr>\n",
       "      <th>(3.341, 3.952]</th>\n",
       "      <td>1</td>\n",
       "      <td>2</td>\n",
       "    </tr>\n",
       "    <tr>\n",
       "      <th>(3.952, 4.563]</th>\n",
       "      <td>0</td>\n",
       "      <td>0</td>\n",
       "    </tr>\n",
       "    <tr>\n",
       "      <th>(4.563, 5.174]</th>\n",
       "      <td>0</td>\n",
       "      <td>0</td>\n",
       "    </tr>\n",
       "    <tr>\n",
       "      <th>(5.174, 5.784]</th>\n",
       "      <td>0</td>\n",
       "      <td>0</td>\n",
       "    </tr>\n",
       "    <tr>\n",
       "      <th>(5.784, 6.395]</th>\n",
       "      <td>1</td>\n",
       "      <td>2</td>\n",
       "    </tr>\n",
       "  </tbody>\n",
       "</table>\n",
       "</div>"
      ],
      "text/plain": [
       "                Frequency  % Frequency\n",
       "Values                                \n",
       "(0.282, 0.899]         26           43\n",
       "(0.899, 1.509]         16           26\n",
       "(1.509, 2.12]          10           16\n",
       "(2.12, 2.731]           4            7\n",
       "(2.731, 3.341]          3            5\n",
       "(3.341, 3.952]          1            2\n",
       "(3.952, 4.563]          0            0\n",
       "(4.563, 5.174]          0            0\n",
       "(5.174, 5.784]          0            0\n",
       "(5.784, 6.395]          1            2"
      ]
     },
     "execution_count": 6,
     "metadata": {},
     "output_type": "execute_result"
    }
   ],
   "source": [
    "print_freq_table(pd.cut(dfs.armedforcesrate, NUM_BUCKETS))"
   ]
  },
  {
   "cell_type": "markdown",
   "metadata": {},
   "source": [
    "## 1.2 Overview of the variables selected"
   ]
  },
  {
   "cell_type": "markdown",
   "metadata": {},
   "source": [
    "Here I show you an overview of the variables selected. Here you can see the extreme values, mean, standard deviation, and and quatiles 25%, 50% (median) and 75%."
   ]
  },
  {
   "cell_type": "code",
   "execution_count": 7,
   "metadata": {
    "collapsed": false
   },
   "outputs": [
    {
     "data": {
      "text/html": [
       "<div>\n",
       "<table border=\"1\" class=\"dataframe\">\n",
       "  <thead>\n",
       "    <tr style=\"text-align: right;\">\n",
       "      <th></th>\n",
       "      <th>polityscore</th>\n",
       "      <th>oilperperson</th>\n",
       "      <th>relectricperperson</th>\n",
       "      <th>employrate</th>\n",
       "      <th>lifeexpectancy</th>\n",
       "      <th>armedforcesrate</th>\n",
       "      <th>urbanrate</th>\n",
       "      <th>femaleemployrate</th>\n",
       "    </tr>\n",
       "  </thead>\n",
       "  <tbody>\n",
       "    <tr>\n",
       "      <th>count</th>\n",
       "      <td>61.000000</td>\n",
       "      <td>61.000000</td>\n",
       "      <td>61.000000</td>\n",
       "      <td>61.000000</td>\n",
       "      <td>61.000000</td>\n",
       "      <td>61.000000</td>\n",
       "      <td>61.000000</td>\n",
       "      <td>61.000000</td>\n",
       "    </tr>\n",
       "    <tr>\n",
       "      <th>mean</th>\n",
       "      <td>5.032787</td>\n",
       "      <td>1.462429</td>\n",
       "      <td>1739.275506</td>\n",
       "      <td>57.868853</td>\n",
       "      <td>75.283246</td>\n",
       "      <td>1.289931</td>\n",
       "      <td>69.059672</td>\n",
       "      <td>46.413114</td>\n",
       "    </tr>\n",
       "    <tr>\n",
       "      <th>std</th>\n",
       "      <td>6.845844</td>\n",
       "      <td>1.851035</td>\n",
       "      <td>2086.279787</td>\n",
       "      <td>7.704253</td>\n",
       "      <td>5.708741</td>\n",
       "      <td>1.046546</td>\n",
       "      <td>16.971473</td>\n",
       "      <td>11.104631</td>\n",
       "    </tr>\n",
       "    <tr>\n",
       "      <th>min</th>\n",
       "      <td>-10.000000</td>\n",
       "      <td>0.032281</td>\n",
       "      <td>68.115229</td>\n",
       "      <td>41.099998</td>\n",
       "      <td>52.797000</td>\n",
       "      <td>0.287892</td>\n",
       "      <td>27.140000</td>\n",
       "      <td>17.700001</td>\n",
       "    </tr>\n",
       "    <tr>\n",
       "      <th>25%</th>\n",
       "      <td>4.000000</td>\n",
       "      <td>0.504659</td>\n",
       "      <td>498.165305</td>\n",
       "      <td>52.500000</td>\n",
       "      <td>73.131000</td>\n",
       "      <td>0.560987</td>\n",
       "      <td>61.000000</td>\n",
       "      <td>41.700001</td>\n",
       "    </tr>\n",
       "    <tr>\n",
       "      <th>50%</th>\n",
       "      <td>8.000000</td>\n",
       "      <td>0.890813</td>\n",
       "      <td>921.562111</td>\n",
       "      <td>58.500000</td>\n",
       "      <td>75.446000</td>\n",
       "      <td>0.972378</td>\n",
       "      <td>70.360000</td>\n",
       "      <td>47.599998</td>\n",
       "    </tr>\n",
       "    <tr>\n",
       "      <th>75%</th>\n",
       "      <td>10.000000</td>\n",
       "      <td>1.593223</td>\n",
       "      <td>2051.802338</td>\n",
       "      <td>62.400002</td>\n",
       "      <td>80.414000</td>\n",
       "      <td>1.649451</td>\n",
       "      <td>81.460000</td>\n",
       "      <td>53.900002</td>\n",
       "    </tr>\n",
       "    <tr>\n",
       "      <th>max</th>\n",
       "      <td>10.000000</td>\n",
       "      <td>12.228645</td>\n",
       "      <td>11154.755033</td>\n",
       "      <td>76.000000</td>\n",
       "      <td>83.394000</td>\n",
       "      <td>6.394936</td>\n",
       "      <td>100.000000</td>\n",
       "      <td>68.900002</td>\n",
       "    </tr>\n",
       "  </tbody>\n",
       "</table>\n",
       "</div>"
      ],
      "text/plain": [
       "       polityscore  oilperperson  relectricperperson  employrate  \\\n",
       "count    61.000000     61.000000           61.000000   61.000000   \n",
       "mean      5.032787      1.462429         1739.275506   57.868853   \n",
       "std       6.845844      1.851035         2086.279787    7.704253   \n",
       "min     -10.000000      0.032281           68.115229   41.099998   \n",
       "25%       4.000000      0.504659          498.165305   52.500000   \n",
       "50%       8.000000      0.890813          921.562111   58.500000   \n",
       "75%      10.000000      1.593223         2051.802338   62.400002   \n",
       "max      10.000000     12.228645        11154.755033   76.000000   \n",
       "\n",
       "       lifeexpectancy  armedforcesrate   urbanrate  femaleemployrate  \n",
       "count       61.000000        61.000000   61.000000         61.000000  \n",
       "mean        75.283246         1.289931   69.059672         46.413114  \n",
       "std          5.708741         1.046546   16.971473         11.104631  \n",
       "min         52.797000         0.287892   27.140000         17.700001  \n",
       "25%         73.131000         0.560987   61.000000         41.700001  \n",
       "50%         75.446000         0.972378   70.360000         47.599998  \n",
       "75%         80.414000         1.649451   81.460000         53.900002  \n",
       "max         83.394000         6.394936  100.000000         68.900002  "
      ]
     },
     "execution_count": 7,
     "metadata": {},
     "output_type": "execute_result"
    }
   ],
   "source": [
    " dfs.describe()"
   ]
  },
  {
   "cell_type": "markdown",
   "metadata": {},
   "source": [
    "End of the assignment."
   ]
  }
 ],
 "metadata": {
  "kernelspec": {
   "display_name": "Python 3",
   "language": "python",
   "name": "python3"
  },
  "language_info": {
   "codemirror_mode": {
    "name": "ipython",
    "version": 3
   },
   "file_extension": ".py",
   "mimetype": "text/x-python",
   "name": "python",
   "nbconvert_exporter": "python",
   "pygments_lexer": "ipython3",
   "version": "3.4.3"
  }
 },
 "nbformat": 4,
 "nbformat_minor": 0
}
